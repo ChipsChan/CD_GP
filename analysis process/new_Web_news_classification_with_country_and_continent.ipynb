{
  "nbformat": 4,
  "nbformat_minor": 0,
  "metadata": {
    "colab": {
      "provenance": []
    },
    "kernelspec": {
      "name": "python3",
      "display_name": "Python 3"
    },
    "language_info": {
      "name": "python"
    }
  },
  "cells": [
    {
      "cell_type": "markdown",
      "source": [
        "# Classify web news with country and continent\n",
        "This is a part of data exploration. Our group would like to do further research based on the metadata.csv. I classify the web news with country and continent, and generate a csv file with country and continent columns, which could be helpful to do analysis on the geographic characteristics.\n",
        "\n",
        "Note: I pip install geotext and pycountry_convert in my anaconda shell prompt. Geotext  extracts country and city mentions from text. Pycountry convert can get the continent corresponding to the country name.\n",
        "\n",
        "**Geotext**\n",
        "\n",
        "Free software: MIT license\n",
        "\n",
        "Documentation: https://geotext.readthedocs.org\n",
        "\n",
        "**Pycountry_convert**\n",
        "\n",
        "Open source: Tsinghua Open Source Mirror\n",
        "\n",
        "Source: https://mirrors.tuna.tsinghua.edu.cn/\n",
        "\n",
        "Analyzed by: Sun Wengyi"
      ],
      "metadata": {
        "id": "rOCafKYkx7g2"
      }
    },
    {
      "cell_type": "code",
      "source": [
        "%pip install pandas"
      ],
      "metadata": {
        "colab": {
          "base_uri": "https://localhost:8080/"
        },
        "id": "uGAZj2AKyI3u",
        "outputId": "2c1dbec5-5655-409e-cd01-57177e5d8ce8"
      },
      "execution_count": 1,
      "outputs": [
        {
          "output_type": "stream",
          "name": "stdout",
          "text": [
            "Requirement already satisfied: pandas in /usr/local/lib/python3.10/dist-packages (1.5.3)\n",
            "Requirement already satisfied: python-dateutil>=2.8.1 in /usr/local/lib/python3.10/dist-packages (from pandas) (2.8.2)\n",
            "Requirement already satisfied: pytz>=2020.1 in /usr/local/lib/python3.10/dist-packages (from pandas) (2023.3.post1)\n",
            "Requirement already satisfied: numpy>=1.21.0 in /usr/local/lib/python3.10/dist-packages (from pandas) (1.23.5)\n",
            "Requirement already satisfied: six>=1.5 in /usr/local/lib/python3.10/dist-packages (from python-dateutil>=2.8.1->pandas) (1.16.0)\n"
          ]
        }
      ]
    },
    {
      "cell_type": "code",
      "source": [
        "%pip install geotext"
      ],
      "metadata": {
        "colab": {
          "base_uri": "https://localhost:8080/"
        },
        "id": "c1EAvfXbyOs_",
        "outputId": "f4d5cd4d-5d99-4fe3-f27f-38acc7b6c697"
      },
      "execution_count": 2,
      "outputs": [
        {
          "output_type": "stream",
          "name": "stdout",
          "text": [
            "Collecting geotext\n",
            "  Downloading geotext-0.4.0-py2.py3-none-any.whl (2.0 MB)\n",
            "\u001b[2K     \u001b[90m━━━━━━━━━━━━━━━━━━━━━━━━━━━━━━━━━━━━━━━━\u001b[0m \u001b[32m2.0/2.0 MB\u001b[0m \u001b[31m6.7 MB/s\u001b[0m eta \u001b[36m0:00:00\u001b[0m\n",
            "\u001b[?25hInstalling collected packages: geotext\n",
            "Successfully installed geotext-0.4.0\n"
          ]
        }
      ]
    },
    {
      "cell_type": "code",
      "source": [
        "%pip install pycountry_convert"
      ],
      "metadata": {
        "colab": {
          "base_uri": "https://localhost:8080/"
        },
        "id": "1xlR_cU7yY8g",
        "outputId": "b4371a9a-09b9-4edf-b3aa-36fe26051fa1"
      },
      "execution_count": 3,
      "outputs": [
        {
          "output_type": "stream",
          "name": "stdout",
          "text": [
            "Collecting pycountry_convert\n",
            "  Downloading pycountry_convert-0.7.2-py3-none-any.whl (13 kB)\n",
            "Collecting pprintpp>=0.3.0 (from pycountry_convert)\n",
            "  Downloading pprintpp-0.4.0-py2.py3-none-any.whl (16 kB)\n",
            "Collecting pycountry>=16.11.27.1 (from pycountry_convert)\n",
            "  Downloading pycountry-23.12.11-py3-none-any.whl (6.2 MB)\n",
            "\u001b[2K     \u001b[90m━━━━━━━━━━━━━━━━━━━━━━━━━━━━━━━━━━━━━━━━\u001b[0m \u001b[32m6.2/6.2 MB\u001b[0m \u001b[31m23.3 MB/s\u001b[0m eta \u001b[36m0:00:00\u001b[0m\n",
            "\u001b[?25hRequirement already satisfied: pytest>=3.4.0 in /usr/local/lib/python3.10/dist-packages (from pycountry_convert) (7.4.4)\n",
            "Collecting pytest-mock>=1.6.3 (from pycountry_convert)\n",
            "  Downloading pytest_mock-3.12.0-py3-none-any.whl (9.8 kB)\n",
            "Collecting pytest-cov>=2.5.1 (from pycountry_convert)\n",
            "  Downloading pytest_cov-4.1.0-py3-none-any.whl (21 kB)\n",
            "Collecting repoze.lru>=0.7 (from pycountry_convert)\n",
            "  Downloading repoze.lru-0.7-py3-none-any.whl (10 kB)\n",
            "Requirement already satisfied: wheel>=0.30.0 in /usr/local/lib/python3.10/dist-packages (from pycountry_convert) (0.42.0)\n",
            "Requirement already satisfied: iniconfig in /usr/local/lib/python3.10/dist-packages (from pytest>=3.4.0->pycountry_convert) (2.0.0)\n",
            "Requirement already satisfied: packaging in /usr/local/lib/python3.10/dist-packages (from pytest>=3.4.0->pycountry_convert) (23.2)\n",
            "Requirement already satisfied: pluggy<2.0,>=0.12 in /usr/local/lib/python3.10/dist-packages (from pytest>=3.4.0->pycountry_convert) (1.3.0)\n",
            "Requirement already satisfied: exceptiongroup>=1.0.0rc8 in /usr/local/lib/python3.10/dist-packages (from pytest>=3.4.0->pycountry_convert) (1.2.0)\n",
            "Requirement already satisfied: tomli>=1.0.0 in /usr/local/lib/python3.10/dist-packages (from pytest>=3.4.0->pycountry_convert) (2.0.1)\n",
            "Collecting coverage[toml]>=5.2.1 (from pytest-cov>=2.5.1->pycountry_convert)\n",
            "  Downloading coverage-7.4.0-cp310-cp310-manylinux_2_5_x86_64.manylinux1_x86_64.manylinux_2_17_x86_64.manylinux2014_x86_64.whl (233 kB)\n",
            "\u001b[2K     \u001b[90m━━━━━━━━━━━━━━━━━━━━━━━━━━━━━━━━━━━━━━━━\u001b[0m \u001b[32m233.2/233.2 kB\u001b[0m \u001b[31m22.3 MB/s\u001b[0m eta \u001b[36m0:00:00\u001b[0m\n",
            "\u001b[?25hInstalling collected packages: repoze.lru, pprintpp, pycountry, coverage, pytest-mock, pytest-cov, pycountry_convert\n",
            "Successfully installed coverage-7.4.0 pprintpp-0.4.0 pycountry-23.12.11 pycountry_convert-0.7.2 pytest-cov-4.1.0 pytest-mock-3.12.0 repoze.lru-0.7\n"
          ]
        }
      ]
    },
    {
      "cell_type": "code",
      "source": [
        "import pandas as pd\n",
        "from geotext import GeoText\n",
        "import pycountry_convert as pc"
      ],
      "metadata": {
        "id": "T2_N9Smuyhzb"
      },
      "execution_count": 4,
      "outputs": []
    },
    {
      "cell_type": "code",
      "source": [
        "#Convert country names to continent names\n",
        "def country_to_continent(country_name):\n",
        "    try:\n",
        "        country_alpha2 = pc.country_name_to_country_alpha2(country_name)\n",
        "        country_continent_code = pc.country_alpha2_to_continent_code(country_alpha2)\n",
        "        country_continent_name = pc.convert_continent_code_to_continent_name(country_continent_code)\n",
        "        return country_continent_name\n",
        "    except:\n",
        "        return None"
      ],
      "metadata": {
        "id": "TRcy5G4lypV2"
      },
      "execution_count": 5,
      "outputs": []
    },
    {
      "cell_type": "code",
      "source": [
        "#Extract countries and their corresponding continents from the tags\n",
        "def extract_country_and_continent(tags):\n",
        "    places = GeoText(tags)\n",
        "    countries = places.countries\n",
        "    continents = [country_to_continent(country) for country in countries]\n",
        "    return countries, list(set(filter(None, continents)))\n"
      ],
      "metadata": {
        "id": "eP2xSckcyxe4"
      },
      "execution_count": 6,
      "outputs": []
    },
    {
      "cell_type": "code",
      "source": [
        "def main(csv_file, output_file):\n",
        "    #Read the CSV file into a DataFrame\n",
        "    df = pd.read_csv(csv_file)\n",
        "    #Initialize two lists to store country and continent information\n",
        "    all_countries = []\n",
        "    all_continents = []\n",
        "\n",
        "    #Iterate over each row of the DataFrame\n",
        "    for tags in df['Tags']:\n",
        "        #Extract countries and continents\n",
        "        countries, continents = extract_country_and_continent(tags)\n",
        "\n",
        "        #Convert all countries and continents to strings, separated by commas\n",
        "        country_str = ', '.join(countries) if countries else None\n",
        "        continent_str = ', '.join(filter(None, continents)) if continents else None\n",
        "\n",
        "        all_countries.append(country_str)\n",
        "        all_continents.append(continent_str)\n",
        "\n",
        "    #Add country and continent information to the DataFrame\n",
        "    df['Country'] = all_countries\n",
        "    df['Continent'] = all_continents\n",
        "\n",
        "    #Write the processed DataFrame to a new CSV file\n",
        "    df.to_csv(output_file, index=False)\n",
        "\n",
        "    return df"
      ],
      "metadata": {
        "id": "0aLha0mky287"
      },
      "execution_count": 7,
      "outputs": []
    },
    {
      "cell_type": "code",
      "source": [
        "from google.colab import files\n",
        "\n",
        "uploaded = files.upload()\n",
        "\n"
      ],
      "metadata": {
        "colab": {
          "base_uri": "https://localhost:8080/",
          "height": 76
        },
        "id": "YNXRL3kF1O5J",
        "outputId": "110e26cc-6f3b-4567-c3b6-f8f564d96f19"
      },
      "execution_count": 8,
      "outputs": [
        {
          "output_type": "display_data",
          "data": {
            "text/plain": [
              "<IPython.core.display.HTML object>"
            ],
            "text/html": [
              "\n",
              "     <input type=\"file\" id=\"files-2b741ba6-2e06-41fd-a349-fcfd50aba673\" name=\"files[]\" multiple disabled\n",
              "        style=\"border:none\" />\n",
              "     <output id=\"result-2b741ba6-2e06-41fd-a349-fcfd50aba673\">\n",
              "      Upload widget is only available when the cell has been executed in the\n",
              "      current browser session. Please rerun this cell to enable.\n",
              "      </output>\n",
              "      <script>// Copyright 2017 Google LLC\n",
              "//\n",
              "// Licensed under the Apache License, Version 2.0 (the \"License\");\n",
              "// you may not use this file except in compliance with the License.\n",
              "// You may obtain a copy of the License at\n",
              "//\n",
              "//      http://www.apache.org/licenses/LICENSE-2.0\n",
              "//\n",
              "// Unless required by applicable law or agreed to in writing, software\n",
              "// distributed under the License is distributed on an \"AS IS\" BASIS,\n",
              "// WITHOUT WARRANTIES OR CONDITIONS OF ANY KIND, either express or implied.\n",
              "// See the License for the specific language governing permissions and\n",
              "// limitations under the License.\n",
              "\n",
              "/**\n",
              " * @fileoverview Helpers for google.colab Python module.\n",
              " */\n",
              "(function(scope) {\n",
              "function span(text, styleAttributes = {}) {\n",
              "  const element = document.createElement('span');\n",
              "  element.textContent = text;\n",
              "  for (const key of Object.keys(styleAttributes)) {\n",
              "    element.style[key] = styleAttributes[key];\n",
              "  }\n",
              "  return element;\n",
              "}\n",
              "\n",
              "// Max number of bytes which will be uploaded at a time.\n",
              "const MAX_PAYLOAD_SIZE = 100 * 1024;\n",
              "\n",
              "function _uploadFiles(inputId, outputId) {\n",
              "  const steps = uploadFilesStep(inputId, outputId);\n",
              "  const outputElement = document.getElementById(outputId);\n",
              "  // Cache steps on the outputElement to make it available for the next call\n",
              "  // to uploadFilesContinue from Python.\n",
              "  outputElement.steps = steps;\n",
              "\n",
              "  return _uploadFilesContinue(outputId);\n",
              "}\n",
              "\n",
              "// This is roughly an async generator (not supported in the browser yet),\n",
              "// where there are multiple asynchronous steps and the Python side is going\n",
              "// to poll for completion of each step.\n",
              "// This uses a Promise to block the python side on completion of each step,\n",
              "// then passes the result of the previous step as the input to the next step.\n",
              "function _uploadFilesContinue(outputId) {\n",
              "  const outputElement = document.getElementById(outputId);\n",
              "  const steps = outputElement.steps;\n",
              "\n",
              "  const next = steps.next(outputElement.lastPromiseValue);\n",
              "  return Promise.resolve(next.value.promise).then((value) => {\n",
              "    // Cache the last promise value to make it available to the next\n",
              "    // step of the generator.\n",
              "    outputElement.lastPromiseValue = value;\n",
              "    return next.value.response;\n",
              "  });\n",
              "}\n",
              "\n",
              "/**\n",
              " * Generator function which is called between each async step of the upload\n",
              " * process.\n",
              " * @param {string} inputId Element ID of the input file picker element.\n",
              " * @param {string} outputId Element ID of the output display.\n",
              " * @return {!Iterable<!Object>} Iterable of next steps.\n",
              " */\n",
              "function* uploadFilesStep(inputId, outputId) {\n",
              "  const inputElement = document.getElementById(inputId);\n",
              "  inputElement.disabled = false;\n",
              "\n",
              "  const outputElement = document.getElementById(outputId);\n",
              "  outputElement.innerHTML = '';\n",
              "\n",
              "  const pickedPromise = new Promise((resolve) => {\n",
              "    inputElement.addEventListener('change', (e) => {\n",
              "      resolve(e.target.files);\n",
              "    });\n",
              "  });\n",
              "\n",
              "  const cancel = document.createElement('button');\n",
              "  inputElement.parentElement.appendChild(cancel);\n",
              "  cancel.textContent = 'Cancel upload';\n",
              "  const cancelPromise = new Promise((resolve) => {\n",
              "    cancel.onclick = () => {\n",
              "      resolve(null);\n",
              "    };\n",
              "  });\n",
              "\n",
              "  // Wait for the user to pick the files.\n",
              "  const files = yield {\n",
              "    promise: Promise.race([pickedPromise, cancelPromise]),\n",
              "    response: {\n",
              "      action: 'starting',\n",
              "    }\n",
              "  };\n",
              "\n",
              "  cancel.remove();\n",
              "\n",
              "  // Disable the input element since further picks are not allowed.\n",
              "  inputElement.disabled = true;\n",
              "\n",
              "  if (!files) {\n",
              "    return {\n",
              "      response: {\n",
              "        action: 'complete',\n",
              "      }\n",
              "    };\n",
              "  }\n",
              "\n",
              "  for (const file of files) {\n",
              "    const li = document.createElement('li');\n",
              "    li.append(span(file.name, {fontWeight: 'bold'}));\n",
              "    li.append(span(\n",
              "        `(${file.type || 'n/a'}) - ${file.size} bytes, ` +\n",
              "        `last modified: ${\n",
              "            file.lastModifiedDate ? file.lastModifiedDate.toLocaleDateString() :\n",
              "                                    'n/a'} - `));\n",
              "    const percent = span('0% done');\n",
              "    li.appendChild(percent);\n",
              "\n",
              "    outputElement.appendChild(li);\n",
              "\n",
              "    const fileDataPromise = new Promise((resolve) => {\n",
              "      const reader = new FileReader();\n",
              "      reader.onload = (e) => {\n",
              "        resolve(e.target.result);\n",
              "      };\n",
              "      reader.readAsArrayBuffer(file);\n",
              "    });\n",
              "    // Wait for the data to be ready.\n",
              "    let fileData = yield {\n",
              "      promise: fileDataPromise,\n",
              "      response: {\n",
              "        action: 'continue',\n",
              "      }\n",
              "    };\n",
              "\n",
              "    // Use a chunked sending to avoid message size limits. See b/62115660.\n",
              "    let position = 0;\n",
              "    do {\n",
              "      const length = Math.min(fileData.byteLength - position, MAX_PAYLOAD_SIZE);\n",
              "      const chunk = new Uint8Array(fileData, position, length);\n",
              "      position += length;\n",
              "\n",
              "      const base64 = btoa(String.fromCharCode.apply(null, chunk));\n",
              "      yield {\n",
              "        response: {\n",
              "          action: 'append',\n",
              "          file: file.name,\n",
              "          data: base64,\n",
              "        },\n",
              "      };\n",
              "\n",
              "      let percentDone = fileData.byteLength === 0 ?\n",
              "          100 :\n",
              "          Math.round((position / fileData.byteLength) * 100);\n",
              "      percent.textContent = `${percentDone}% done`;\n",
              "\n",
              "    } while (position < fileData.byteLength);\n",
              "  }\n",
              "\n",
              "  // All done.\n",
              "  yield {\n",
              "    response: {\n",
              "      action: 'complete',\n",
              "    }\n",
              "  };\n",
              "}\n",
              "\n",
              "scope.google = scope.google || {};\n",
              "scope.google.colab = scope.google.colab || {};\n",
              "scope.google.colab._files = {\n",
              "  _uploadFiles,\n",
              "  _uploadFilesContinue,\n",
              "};\n",
              "})(self);\n",
              "</script> "
            ]
          },
          "metadata": {}
        },
        {
          "output_type": "stream",
          "name": "stdout",
          "text": [
            "Saving metadata_improved.csv to metadata_improved.csv\n"
          ]
        }
      ]
    },
    {
      "cell_type": "code",
      "source": [
        "#Output the new csv file\n",
        "input_file_colab = '/content/metadata_improved.csv'\n",
        "output_file_colab = '/content/new_metadata_with_country_and_continent.csv'\n",
        "df_classified = main(input_file_colab, output_file_colab)\n",
        "if df_classified is not None and isinstance(df_classified, pd.DataFrame):\n",
        "    print(\"Processed data written to:\", output_file_colab)\n",
        "    print(df_classified.head())\n",
        "else:\n",
        "    print(\"Error: The main function did not return a valid DataFrame.\")"
      ],
      "metadata": {
        "colab": {
          "base_uri": "https://localhost:8080/"
        },
        "id": "iDWZgO_Ty4Z0",
        "outputId": "4c4f1b8d-eec5-49e8-a038-421226e4ca56"
      },
      "execution_count": 10,
      "outputs": [
        {
          "output_type": "stream",
          "name": "stdout",
          "text": [
            "Processed data written to: /content/new_metadata_with_country_and_continent.csv\n",
            "   Unnamed: 0                                           WebTitle  \\\n",
            "0           0  Volodymyr Zelenskiy stands defiant in face of ...   \n",
            "1           1  Record Covid cases in Russia and Ukraine compl...   \n",
            "2           2  Back in the USSR: Lenin statues and Soviet fla...   \n",
            "3           3  The artists of Ukraine find their voice in a c...   \n",
            "4           4  Rail staff killed in ‘unprecedented’ attack on...   \n",
            "\n",
            "                                              WebUrl  \\\n",
            "0  https://www.theguardian.com/world/2022/feb/26/...   \n",
            "1  https://www.theguardian.com/world/2022/feb/04/...   \n",
            "2  https://www.theguardian.com/world/2022/apr/23/...   \n",
            "3  https://www.theguardian.com/world/2022/apr/23/...   \n",
            "4  https://www.theguardian.com/world/2022/mar/29/...   \n",
            "\n",
            "                     PubTime  \\\n",
            "0  2022-02-26 13:52:35+00:00   \n",
            "1  2022-02-04 15:06:11+00:00   \n",
            "2  2022-04-23 16:01:52+00:00   \n",
            "3  2022-04-23 07:00:47+00:00   \n",
            "4  2022-03-29 10:42:05+00:00   \n",
            "\n",
            "                                                Tags  TagCounts  \\\n",
            "0  Ukraine, Volodymyr Zelenskiy, Europe, World ne...         14   \n",
            "1  Ukraine, Russia, Coronavirus, Europe, Infectio...         13   \n",
            "2  Ukraine, Russia, Europe, World news, Article, ...         11   \n",
            "3  Ukraine, Art and design, Culture, World news, ...         15   \n",
            "4  Nigeria, Africa, World news, Article, News, Em...         10   \n",
            "\n",
            "                                                Text          Country  \\\n",
            "0  He looked gaunt and unshaven after another sle...  Ukraine, Russia   \n",
            "1  The Omicron variant is causing record numbers ...  Ukraine, Russia   \n",
            "2  Last week a familiar figure returned to the ma...  Ukraine, Russia   \n",
            "3  More than 200 years after Francisco Goya comme...  Ukraine, Russia   \n",
            "4  Gunmen have attacked a train travelling from t...          Nigeria   \n",
            "\n",
            "  Continent  \n",
            "0    Europe  \n",
            "1    Europe  \n",
            "2    Europe  \n",
            "3    Europe  \n",
            "4    Africa  \n"
          ]
        }
      ]
    }
  ]
}