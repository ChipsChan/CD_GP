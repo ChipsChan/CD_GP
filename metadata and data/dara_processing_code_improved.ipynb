{
 "cells": [
  {
   "cell_type": "markdown",
   "metadata": {
    "id": "1ldq6GVRvjrF"
   },
   "source": [
    "# Group Project\n",
    "\n",
    "## Processing Data\n",
    "\n",
    "**This is to preprocess the data scraped from the website, and create a metadata and data csv file containing information about articles on the Guardian and aticles themselves, which is convinient for human to read and for machine to analyze.\n",
    "\n",
    "by:Zhuoli Lu\n",
    "\n",
    "\n"
   ]
  },
  {
   "cell_type": "markdown",
   "metadata": {
    "id": "hKU6WyOP2duZ"
   },
   "source": [
    "## Installing and Importing"
   ]
  },
  {
   "cell_type": "code",
   "execution_count": 1,
   "metadata": {
    "id": "wA5bWAcN3Krp"
   },
   "outputs": [],
   "source": [
    "# Import os to upload documents and metadata\n",
    "import os\n",
    "# Imprort yaml\n",
    "import yaml\n",
    "# Import json\n",
    "import json\n",
    "# Import pandas DataFrame packages\n",
    "import pandas as pd\n",
    "pd.options.mode.chained_assignment = None  # default='warn'\n",
    "\n"
   ]
  },
  {
   "cell_type": "markdown",
   "metadata": {
    "id": "Q1aq5d7Ww-Gs"
   },
   "source": [
    "## Create a DataFrame from parsing JSON strings in all files"
   ]
  },
  {
   "cell_type": "markdown",
   "metadata": {},
   "source": [
    "The data we scraped from the website by Gaurdian API are structured and stored in txt files. The form of data is JSON, also as known as JavaScript Object Notation. As JSON is a lightweight data-interchange format that is easy for humans to read and write, we can clearly recognized metadata and data information from these txt files. JSON is also pretty easy for machine to parse and generate. This step is to use python language and to import yaml to parse these JSON strings and then create a DataFrame. We will get keys like Web Title, Section Name,Web Publication Date, Web URL, Tags, Tag Count and Body Text Summary, which is needed for next analysis. Every key maps to a specific value. We store these keys and values into corresponding columns within the dataframe."
   ]
  },
  {
   "cell_type": "code",
   "execution_count": 52,
   "metadata": {
    "colab": {
     "base_uri": "https://localhost:8080/",
     "height": 504
    },
    "id": "3XN5WyrA7SSl",
    "outputId": "f1084854-8eaa-4485-d0cf-c3dd276fce64"
   },
   "outputs": [
    {
     "name": "stdout",
     "output_type": "stream",
     "text": [
      "Total files processed: 1200\n"
     ]
    },
    {
     "data": {
      "text/html": [
       "<div>\n",
       "<style scoped>\n",
       "    .dataframe tbody tr th:only-of-type {\n",
       "        vertical-align: middle;\n",
       "    }\n",
       "\n",
       "    .dataframe tbody tr th {\n",
       "        vertical-align: top;\n",
       "    }\n",
       "\n",
       "    .dataframe thead th {\n",
       "        text-align: right;\n",
       "    }\n",
       "</style>\n",
       "<table border=\"1\" class=\"dataframe\">\n",
       "  <thead>\n",
       "    <tr style=\"text-align: right;\">\n",
       "      <th></th>\n",
       "      <th>type</th>\n",
       "      <th>webTitle</th>\n",
       "      <th>sectionName</th>\n",
       "      <th>webPublicationDate</th>\n",
       "      <th>webUrl</th>\n",
       "      <th>tags</th>\n",
       "      <th>tagCount</th>\n",
       "      <th>bodyTextSummary</th>\n",
       "    </tr>\n",
       "  </thead>\n",
       "  <tbody>\n",
       "    <tr>\n",
       "      <th>0</th>\n",
       "      <td>article</td>\n",
       "      <td>Russia launches multiple rocket attacks in Kha...</td>\n",
       "      <td>World news</td>\n",
       "      <td>2022-02-28T20:03:36Z</td>\n",
       "      <td>https://www.theguardian.com/world/2022/feb/28/...</td>\n",
       "      <td>[{'tagTitle': 'Ukraine', 'tagURL': 'https://ww...</td>\n",
       "      <td>19</td>\n",
       "      <td>Russian forces have launched rocket attacks th...</td>\n",
       "    </tr>\n",
       "    <tr>\n",
       "      <th>1</th>\n",
       "      <td>article</td>\n",
       "      <td>Hong Kong journalist allowed to travel to UK a...</td>\n",
       "      <td>World news</td>\n",
       "      <td>2022-09-22T14:41:33Z</td>\n",
       "      <td>https://www.theguardian.com/world/2022/sep/22/...</td>\n",
       "      <td>[{'tagTitle': 'Hong Kong', 'tagURL': 'https://...</td>\n",
       "      <td>11</td>\n",
       "      <td>The head of Hong Kong’s journalists’ associati...</td>\n",
       "    </tr>\n",
       "    <tr>\n",
       "      <th>2</th>\n",
       "      <td>article</td>\n",
       "      <td>Mariupol cemetery images show 1,400 graves dug...</td>\n",
       "      <td>World news</td>\n",
       "      <td>2022-07-15T07:58:35Z</td>\n",
       "      <td>https://www.theguardian.com/world/2022/jul/15/...</td>\n",
       "      <td>[{'tagTitle': 'Ukraine', 'tagURL': 'https://ww...</td>\n",
       "      <td>9</td>\n",
       "      <td>New satellite images show an expanding grave s...</td>\n",
       "    </tr>\n",
       "    <tr>\n",
       "      <th>3</th>\n",
       "      <td>article</td>\n",
       "      <td>‘We need the truth’: the campaign to ‘de-Russi...</td>\n",
       "      <td>World news</td>\n",
       "      <td>2022-06-04T04:00:26Z</td>\n",
       "      <td>https://www.theguardian.com/world/2022/jun/04/...</td>\n",
       "      <td>[{'tagTitle': 'Ukraine', 'tagURL': 'https://ww...</td>\n",
       "      <td>11</td>\n",
       "      <td>Standing in front of a statue of a gruff-looki...</td>\n",
       "    </tr>\n",
       "    <tr>\n",
       "      <th>4</th>\n",
       "      <td>article</td>\n",
       "      <td>Four dead, one missing after New Zealand fishi...</td>\n",
       "      <td>World news</td>\n",
       "      <td>2022-03-21T03:31:51Z</td>\n",
       "      <td>https://www.theguardian.com/world/2022/mar/21/...</td>\n",
       "      <td>[{'tagTitle': 'New Zealand', 'tagURL': 'https:...</td>\n",
       "      <td>7</td>\n",
       "      <td>A fishing trip in New Zealand has ended in tra...</td>\n",
       "    </tr>\n",
       "  </tbody>\n",
       "</table>\n",
       "</div>"
      ],
      "text/plain": [
       "      type                                           webTitle sectionName  \\\n",
       "0  article  Russia launches multiple rocket attacks in Kha...  World news   \n",
       "1  article  Hong Kong journalist allowed to travel to UK a...  World news   \n",
       "2  article  Mariupol cemetery images show 1,400 graves dug...  World news   \n",
       "3  article  ‘We need the truth’: the campaign to ‘de-Russi...  World news   \n",
       "4  article  Four dead, one missing after New Zealand fishi...  World news   \n",
       "\n",
       "     webPublicationDate                                             webUrl  \\\n",
       "0  2022-02-28T20:03:36Z  https://www.theguardian.com/world/2022/feb/28/...   \n",
       "1  2022-09-22T14:41:33Z  https://www.theguardian.com/world/2022/sep/22/...   \n",
       "2  2022-07-15T07:58:35Z  https://www.theguardian.com/world/2022/jul/15/...   \n",
       "3  2022-06-04T04:00:26Z  https://www.theguardian.com/world/2022/jun/04/...   \n",
       "4  2022-03-21T03:31:51Z  https://www.theguardian.com/world/2022/mar/21/...   \n",
       "\n",
       "                                                tags  tagCount  \\\n",
       "0  [{'tagTitle': 'Ukraine', 'tagURL': 'https://ww...        19   \n",
       "1  [{'tagTitle': 'Hong Kong', 'tagURL': 'https://...        11   \n",
       "2  [{'tagTitle': 'Ukraine', 'tagURL': 'https://ww...         9   \n",
       "3  [{'tagTitle': 'Ukraine', 'tagURL': 'https://ww...        11   \n",
       "4  [{'tagTitle': 'New Zealand', 'tagURL': 'https:...         7   \n",
       "\n",
       "                                     bodyTextSummary  \n",
       "0  Russian forces have launched rocket attacks th...  \n",
       "1  The head of Hong Kong’s journalists’ associati...  \n",
       "2  New satellite images show an expanding grave s...  \n",
       "3  Standing in front of a statue of a gruff-looki...  \n",
       "4  A fishing trip in New Zealand has ended in tra...  "
      ]
     },
     "execution_count": 52,
     "metadata": {},
     "output_type": "execute_result"
    }
   ],
   "source": [
    "\n",
    "# Create empty list for storing data\n",
    "all_data = []\n",
    "\n",
    "# Specify the directory where the files are located\n",
    "folder_path = 'Guardian_corpus_txt_improved'\n",
    "\n",
    "# Iterate through each file in the folder\n",
    "for file_name in os.listdir(folder_path):\n",
    "    # Construct the full file path\n",
    "    file_path = os.path.join(folder_path, file_name)\n",
    "\n",
    "    # Make sure to process txt files only\n",
    "    if os.path.isfile(file_path) and file_path.endswith('.txt'):\n",
    "        # Read txt files\n",
    "        with open(file_path, 'r', encoding='utf-8') as file:\n",
    "          file_content = file.read()\n",
    "\n",
    "        # Use yaml to parse JSON data\n",
    "        try:\n",
    "            data = yaml.safe_load(file_content)\n",
    "            all_data.append(data)\n",
    "        except yaml.YAMLError as e:\n",
    "            print(f\"Error parsing JSON in {file_name}: {e}\")\n",
    "\n",
    "# Transform the data into Pandas DataFrame\n",
    "df = pd.DataFrame(all_data)\n",
    "\n",
    "# Look at the head of the DataFrame\n",
    "print(f\"Total files processed: {len(all_data)}\")\n",
    "df.head()\n"
   ]
  },
  {
   "cell_type": "markdown",
   "metadata": {
    "id": "QK6FLSHpzHnr"
   },
   "source": [
    "## Extracting and parsing data in Dataframe"
   ]
  },
  {
   "cell_type": "markdown",
   "metadata": {},
   "source": [
    "In this step, we extract dada needed for analysis in the project, and parse values in the tag colunm, which are shown as a list that couldn't be directly used for analysis."
   ]
  },
  {
   "cell_type": "code",
   "execution_count": 53,
   "metadata": {
    "colab": {
     "base_uri": "https://localhost:8080/",
     "height": 293
    },
    "id": "5GvmL5Led9Po",
    "outputId": "36a6d6df-5cd9-4ff2-acad-8be4ed84125a"
   },
   "outputs": [
    {
     "data": {
      "text/html": [
       "<div>\n",
       "<style scoped>\n",
       "    .dataframe tbody tr th:only-of-type {\n",
       "        vertical-align: middle;\n",
       "    }\n",
       "\n",
       "    .dataframe tbody tr th {\n",
       "        vertical-align: top;\n",
       "    }\n",
       "\n",
       "    .dataframe thead th {\n",
       "        text-align: right;\n",
       "    }\n",
       "</style>\n",
       "<table border=\"1\" class=\"dataframe\">\n",
       "  <thead>\n",
       "    <tr style=\"text-align: right;\">\n",
       "      <th></th>\n",
       "      <th>WebTitle</th>\n",
       "      <th>WebUrl</th>\n",
       "      <th>PubTime</th>\n",
       "      <th>Tags</th>\n",
       "      <th>TagCounts</th>\n",
       "      <th>Text</th>\n",
       "    </tr>\n",
       "  </thead>\n",
       "  <tbody>\n",
       "    <tr>\n",
       "      <th>0</th>\n",
       "      <td>Russia launches multiple rocket attacks in Kha...</td>\n",
       "      <td>https://www.theguardian.com/world/2022/feb/28/...</td>\n",
       "      <td>2022-02-28T20:03:36Z</td>\n",
       "      <td>Ukraine, Russia, World news, Nato, European Un...</td>\n",
       "      <td>19</td>\n",
       "      <td>Russian forces have launched rocket attacks th...</td>\n",
       "    </tr>\n",
       "    <tr>\n",
       "      <th>1</th>\n",
       "      <td>Hong Kong journalist allowed to travel to UK a...</td>\n",
       "      <td>https://www.theguardian.com/world/2022/sep/22/...</td>\n",
       "      <td>2022-09-22T14:41:33Z</td>\n",
       "      <td>Hong Kong, Asia Pacific, World news, China, Pr...</td>\n",
       "      <td>11</td>\n",
       "      <td>The head of Hong Kong’s journalists’ associati...</td>\n",
       "    </tr>\n",
       "    <tr>\n",
       "      <th>2</th>\n",
       "      <td>Mariupol cemetery images show 1,400 graves dug...</td>\n",
       "      <td>https://www.theguardian.com/world/2022/jul/15/...</td>\n",
       "      <td>2022-07-15T07:58:35Z</td>\n",
       "      <td>Ukraine, Russia, Europe, World news, Article, ...</td>\n",
       "      <td>9</td>\n",
       "      <td>New satellite images show an expanding grave s...</td>\n",
       "    </tr>\n",
       "    <tr>\n",
       "      <th>3</th>\n",
       "      <td>‘We need the truth’: the campaign to ‘de-Russi...</td>\n",
       "      <td>https://www.theguardian.com/world/2022/jun/04/...</td>\n",
       "      <td>2022-06-04T04:00:26Z</td>\n",
       "      <td>Ukraine, Russia, Europe, World news, Article, ...</td>\n",
       "      <td>11</td>\n",
       "      <td>Standing in front of a statue of a gruff-looki...</td>\n",
       "    </tr>\n",
       "    <tr>\n",
       "      <th>4</th>\n",
       "      <td>Four dead, one missing after New Zealand fishi...</td>\n",
       "      <td>https://www.theguardian.com/world/2022/mar/21/...</td>\n",
       "      <td>2022-03-21T03:31:51Z</td>\n",
       "      <td>New Zealand, Asia Pacific, World news, Article...</td>\n",
       "      <td>7</td>\n",
       "      <td>A fishing trip in New Zealand has ended in tra...</td>\n",
       "    </tr>\n",
       "  </tbody>\n",
       "</table>\n",
       "</div>"
      ],
      "text/plain": [
       "                                            WebTitle  \\\n",
       "0  Russia launches multiple rocket attacks in Kha...   \n",
       "1  Hong Kong journalist allowed to travel to UK a...   \n",
       "2  Mariupol cemetery images show 1,400 graves dug...   \n",
       "3  ‘We need the truth’: the campaign to ‘de-Russi...   \n",
       "4  Four dead, one missing after New Zealand fishi...   \n",
       "\n",
       "                                              WebUrl               PubTime  \\\n",
       "0  https://www.theguardian.com/world/2022/feb/28/...  2022-02-28T20:03:36Z   \n",
       "1  https://www.theguardian.com/world/2022/sep/22/...  2022-09-22T14:41:33Z   \n",
       "2  https://www.theguardian.com/world/2022/jul/15/...  2022-07-15T07:58:35Z   \n",
       "3  https://www.theguardian.com/world/2022/jun/04/...  2022-06-04T04:00:26Z   \n",
       "4  https://www.theguardian.com/world/2022/mar/21/...  2022-03-21T03:31:51Z   \n",
       "\n",
       "                                                Tags  TagCounts  \\\n",
       "0  Ukraine, Russia, World news, Nato, European Un...         19   \n",
       "1  Hong Kong, Asia Pacific, World news, China, Pr...         11   \n",
       "2  Ukraine, Russia, Europe, World news, Article, ...          9   \n",
       "3  Ukraine, Russia, Europe, World news, Article, ...         11   \n",
       "4  New Zealand, Asia Pacific, World news, Article...          7   \n",
       "\n",
       "                                                Text  \n",
       "0  Russian forces have launched rocket attacks th...  \n",
       "1  The head of Hong Kong’s journalists’ associati...  \n",
       "2  New satellite images show an expanding grave s...  \n",
       "3  Standing in front of a statue of a gruff-looki...  \n",
       "4  A fishing trip in New Zealand has ended in tra...  "
      ]
     },
     "execution_count": 53,
     "metadata": {},
     "output_type": "execute_result"
    }
   ],
   "source": [
    "# Used to store extracted data\n",
    "web_titles = []\n",
    "pub_time = []\n",
    "web_tags = []\n",
    "tag_count = []\n",
    "web_url = []\n",
    "article_text = []\n",
    "\n",
    "\n",
    "# Iterate through the original DataFrame\n",
    "for index, row in df.iterrows():\n",
    "    # Extract the title\n",
    "    title = row['webTitle']  # Assuming the article title is in the 'webTitle' column\n",
    "    time = row ['webPublicationDate']\n",
    "    count = row['tagCount']\n",
    "    url = row['webUrl']\n",
    "    article = row['bodyTextSummary']\n",
    "\n",
    "\n",
    "    temp_tags = []\n",
    "\n",
    "\n",
    "\n",
    "    # Examine whether the web has been processed\n",
    "    if len(web_titles) > 0 and title == web_titles[-1] and time == pub_time[-1]:\n",
    "        # if yes, add the new tag as the last tag in one raw\n",
    "        if isinstance(row['tags'], list):\n",
    "            for tag in row['tags']:\n",
    "                if 'tagTitle' in tag:\n",
    "                    web_tags[-1] += \", \" + tag['tagTitle']  # Append the tag to the last item\n",
    "    else:\n",
    "        # if else, then process it as a new web in a new raw\n",
    "        temp_tags = [tag['tagTitle'] for tag in row['tags'] if 'tagTitle' in tag] if isinstance(row['tags'], list) else []\n",
    "        web_titles.append(title)\n",
    "        pub_time.append(time)\n",
    "        tag_count.append(count)\n",
    "        web_url.append(url)\n",
    "        article_text.append(article)\n",
    "        web_tags.append(', '.join(temp_tags))  # Convert the list of tags to a comma-separated string\n",
    "\n",
    "\n",
    "# Create a new DataFrame\n",
    "d3 = {'WebTitle': web_titles, 'WebUrl' : web_url, 'PubTime':pub_time, 'Tags':web_tags, 'TagCounts':tag_count, 'Text':article_text}\n",
    "metadata_df = pd.DataFrame(d3)\n",
    "\n",
    "# Display the first few rows of the new DataFrame\n",
    "metadata_df.head()"
   ]
  },
  {
   "cell_type": "markdown",
   "metadata": {
    "id": "lm-Ypyx40Xs_"
   },
   "source": [
    "## Transforming data format (data cleaning)"
   ]
  },
  {
   "cell_type": "markdown",
   "metadata": {},
   "source": [
    "This step is to transform the time format to a datatime format.The previous format is ISO 8601, an international standard for date and time representations. We use the datetime module in python, and convert these ISO 8601 formatted strings into datetime objects.These objects are convenient to extract specific date or time components, or to calculate the difference between two dates,which could be useful for analysis."
   ]
  },
  {
   "cell_type": "code",
   "execution_count": 54,
   "metadata": {
    "colab": {
     "base_uri": "https://localhost:8080/",
     "height": 380
    },
    "id": "cPxFI2DBtGwU",
    "outputId": "b0481027-222b-4039-f365-1caf2e74476a"
   },
   "outputs": [
    {
     "data": {
      "text/html": [
       "<div>\n",
       "<style scoped>\n",
       "    .dataframe tbody tr th:only-of-type {\n",
       "        vertical-align: middle;\n",
       "    }\n",
       "\n",
       "    .dataframe tbody tr th {\n",
       "        vertical-align: top;\n",
       "    }\n",
       "\n",
       "    .dataframe thead th {\n",
       "        text-align: right;\n",
       "    }\n",
       "</style>\n",
       "<table border=\"1\" class=\"dataframe\">\n",
       "  <thead>\n",
       "    <tr style=\"text-align: right;\">\n",
       "      <th></th>\n",
       "      <th>WebTitle</th>\n",
       "      <th>WebUrl</th>\n",
       "      <th>PubTime</th>\n",
       "      <th>Tags</th>\n",
       "      <th>TagCounts</th>\n",
       "      <th>Text</th>\n",
       "    </tr>\n",
       "  </thead>\n",
       "  <tbody>\n",
       "    <tr>\n",
       "      <th>0</th>\n",
       "      <td>Russia launches multiple rocket attacks in Kha...</td>\n",
       "      <td>https://www.theguardian.com/world/2022/feb/28/...</td>\n",
       "      <td>2022-02-28 20:03:36+00:00</td>\n",
       "      <td>Ukraine, Russia, World news, Nato, European Un...</td>\n",
       "      <td>19</td>\n",
       "      <td>Russian forces have launched rocket attacks th...</td>\n",
       "    </tr>\n",
       "    <tr>\n",
       "      <th>1</th>\n",
       "      <td>Hong Kong journalist allowed to travel to UK a...</td>\n",
       "      <td>https://www.theguardian.com/world/2022/sep/22/...</td>\n",
       "      <td>2022-09-22 14:41:33+00:00</td>\n",
       "      <td>Hong Kong, Asia Pacific, World news, China, Pr...</td>\n",
       "      <td>11</td>\n",
       "      <td>The head of Hong Kong’s journalists’ associati...</td>\n",
       "    </tr>\n",
       "    <tr>\n",
       "      <th>2</th>\n",
       "      <td>Mariupol cemetery images show 1,400 graves dug...</td>\n",
       "      <td>https://www.theguardian.com/world/2022/jul/15/...</td>\n",
       "      <td>2022-07-15 07:58:35+00:00</td>\n",
       "      <td>Ukraine, Russia, Europe, World news, Article, ...</td>\n",
       "      <td>9</td>\n",
       "      <td>New satellite images show an expanding grave s...</td>\n",
       "    </tr>\n",
       "    <tr>\n",
       "      <th>3</th>\n",
       "      <td>‘We need the truth’: the campaign to ‘de-Russi...</td>\n",
       "      <td>https://www.theguardian.com/world/2022/jun/04/...</td>\n",
       "      <td>2022-06-04 04:00:26+00:00</td>\n",
       "      <td>Ukraine, Russia, Europe, World news, Article, ...</td>\n",
       "      <td>11</td>\n",
       "      <td>Standing in front of a statue of a gruff-looki...</td>\n",
       "    </tr>\n",
       "    <tr>\n",
       "      <th>4</th>\n",
       "      <td>Four dead, one missing after New Zealand fishi...</td>\n",
       "      <td>https://www.theguardian.com/world/2022/mar/21/...</td>\n",
       "      <td>2022-03-21 03:31:51+00:00</td>\n",
       "      <td>New Zealand, Asia Pacific, World news, Article...</td>\n",
       "      <td>7</td>\n",
       "      <td>A fishing trip in New Zealand has ended in tra...</td>\n",
       "    </tr>\n",
       "  </tbody>\n",
       "</table>\n",
       "</div>"
      ],
      "text/plain": [
       "                                            WebTitle  \\\n",
       "0  Russia launches multiple rocket attacks in Kha...   \n",
       "1  Hong Kong journalist allowed to travel to UK a...   \n",
       "2  Mariupol cemetery images show 1,400 graves dug...   \n",
       "3  ‘We need the truth’: the campaign to ‘de-Russi...   \n",
       "4  Four dead, one missing after New Zealand fishi...   \n",
       "\n",
       "                                              WebUrl  \\\n",
       "0  https://www.theguardian.com/world/2022/feb/28/...   \n",
       "1  https://www.theguardian.com/world/2022/sep/22/...   \n",
       "2  https://www.theguardian.com/world/2022/jul/15/...   \n",
       "3  https://www.theguardian.com/world/2022/jun/04/...   \n",
       "4  https://www.theguardian.com/world/2022/mar/21/...   \n",
       "\n",
       "                    PubTime  \\\n",
       "0 2022-02-28 20:03:36+00:00   \n",
       "1 2022-09-22 14:41:33+00:00   \n",
       "2 2022-07-15 07:58:35+00:00   \n",
       "3 2022-06-04 04:00:26+00:00   \n",
       "4 2022-03-21 03:31:51+00:00   \n",
       "\n",
       "                                                Tags  TagCounts  \\\n",
       "0  Ukraine, Russia, World news, Nato, European Un...         19   \n",
       "1  Hong Kong, Asia Pacific, World news, China, Pr...         11   \n",
       "2  Ukraine, Russia, Europe, World news, Article, ...          9   \n",
       "3  Ukraine, Russia, Europe, World news, Article, ...         11   \n",
       "4  New Zealand, Asia Pacific, World news, Article...          7   \n",
       "\n",
       "                                                Text  \n",
       "0  Russian forces have launched rocket attacks th...  \n",
       "1  The head of Hong Kong’s journalists’ associati...  \n",
       "2  New satellite images show an expanding grave s...  \n",
       "3  Standing in front of a statue of a gruff-looki...  \n",
       "4  A fishing trip in New Zealand has ended in tra...  "
      ]
     },
     "execution_count": 54,
     "metadata": {},
     "output_type": "execute_result"
    }
   ],
   "source": [
    "metadata_df['PubTime'] = pd.to_datetime(metadata_df['PubTime'])\n",
    "\n",
    "metadata_df.head()"
   ]
  },
  {
   "cell_type": "markdown",
   "metadata": {},
   "source": [
    "## Removing extra spaces (data cleaning)"
   ]
  },
  {
   "cell_type": "markdown",
   "metadata": {
    "id": "a7nCPrKn2Wmd"
   },
   "source": [
    "The beginnings of some of the texts may contain extra spaces (indicated by \\t or \\n). These characters can be replaced by a single space using the str.replace() method."
   ]
  },
  {
   "cell_type": "code",
   "execution_count": 55,
   "metadata": {
    "colab": {
     "base_uri": "https://localhost:8080/",
     "height": 380
    },
    "id": "dVqKt7uY2YM0",
    "outputId": "021748c1-8a80-45eb-f695-49dc901744e3"
   },
   "outputs": [
    {
     "data": {
      "text/html": [
       "<div>\n",
       "<style scoped>\n",
       "    .dataframe tbody tr th:only-of-type {\n",
       "        vertical-align: middle;\n",
       "    }\n",
       "\n",
       "    .dataframe tbody tr th {\n",
       "        vertical-align: top;\n",
       "    }\n",
       "\n",
       "    .dataframe thead th {\n",
       "        text-align: right;\n",
       "    }\n",
       "</style>\n",
       "<table border=\"1\" class=\"dataframe\">\n",
       "  <thead>\n",
       "    <tr style=\"text-align: right;\">\n",
       "      <th></th>\n",
       "      <th>WebTitle</th>\n",
       "      <th>WebUrl</th>\n",
       "      <th>PubTime</th>\n",
       "      <th>Tags</th>\n",
       "      <th>TagCounts</th>\n",
       "      <th>Text</th>\n",
       "    </tr>\n",
       "  </thead>\n",
       "  <tbody>\n",
       "    <tr>\n",
       "      <th>0</th>\n",
       "      <td>Russia launches multiple rocket attacks in Kha...</td>\n",
       "      <td>https://www.theguardian.com/world/2022/feb/28/...</td>\n",
       "      <td>2022-02-28 20:03:36+00:00</td>\n",
       "      <td>Ukraine, Russia, World news, Nato, European Un...</td>\n",
       "      <td>19</td>\n",
       "      <td>Russian forces have launched rocket attacks th...</td>\n",
       "    </tr>\n",
       "    <tr>\n",
       "      <th>1</th>\n",
       "      <td>Hong Kong journalist allowed to travel to UK a...</td>\n",
       "      <td>https://www.theguardian.com/world/2022/sep/22/...</td>\n",
       "      <td>2022-09-22 14:41:33+00:00</td>\n",
       "      <td>Hong Kong, Asia Pacific, World news, China, Pr...</td>\n",
       "      <td>11</td>\n",
       "      <td>The head of Hong Kong’s journalists’ associati...</td>\n",
       "    </tr>\n",
       "    <tr>\n",
       "      <th>2</th>\n",
       "      <td>Mariupol cemetery images show 1,400 graves dug...</td>\n",
       "      <td>https://www.theguardian.com/world/2022/jul/15/...</td>\n",
       "      <td>2022-07-15 07:58:35+00:00</td>\n",
       "      <td>Ukraine, Russia, Europe, World news, Article, ...</td>\n",
       "      <td>9</td>\n",
       "      <td>New satellite images show an expanding grave s...</td>\n",
       "    </tr>\n",
       "    <tr>\n",
       "      <th>3</th>\n",
       "      <td>‘We need the truth’: the campaign to ‘de-Russi...</td>\n",
       "      <td>https://www.theguardian.com/world/2022/jun/04/...</td>\n",
       "      <td>2022-06-04 04:00:26+00:00</td>\n",
       "      <td>Ukraine, Russia, Europe, World news, Article, ...</td>\n",
       "      <td>11</td>\n",
       "      <td>Standing in front of a statue of a gruff-looki...</td>\n",
       "    </tr>\n",
       "    <tr>\n",
       "      <th>4</th>\n",
       "      <td>Four dead, one missing after New Zealand fishi...</td>\n",
       "      <td>https://www.theguardian.com/world/2022/mar/21/...</td>\n",
       "      <td>2022-03-21 03:31:51+00:00</td>\n",
       "      <td>New Zealand, Asia Pacific, World news, Article...</td>\n",
       "      <td>7</td>\n",
       "      <td>A fishing trip in New Zealand has ended in tra...</td>\n",
       "    </tr>\n",
       "  </tbody>\n",
       "</table>\n",
       "</div>"
      ],
      "text/plain": [
       "                                            WebTitle  \\\n",
       "0  Russia launches multiple rocket attacks in Kha...   \n",
       "1  Hong Kong journalist allowed to travel to UK a...   \n",
       "2  Mariupol cemetery images show 1,400 graves dug...   \n",
       "3  ‘We need the truth’: the campaign to ‘de-Russi...   \n",
       "4  Four dead, one missing after New Zealand fishi...   \n",
       "\n",
       "                                              WebUrl  \\\n",
       "0  https://www.theguardian.com/world/2022/feb/28/...   \n",
       "1  https://www.theguardian.com/world/2022/sep/22/...   \n",
       "2  https://www.theguardian.com/world/2022/jul/15/...   \n",
       "3  https://www.theguardian.com/world/2022/jun/04/...   \n",
       "4  https://www.theguardian.com/world/2022/mar/21/...   \n",
       "\n",
       "                    PubTime  \\\n",
       "0 2022-02-28 20:03:36+00:00   \n",
       "1 2022-09-22 14:41:33+00:00   \n",
       "2 2022-07-15 07:58:35+00:00   \n",
       "3 2022-06-04 04:00:26+00:00   \n",
       "4 2022-03-21 03:31:51+00:00   \n",
       "\n",
       "                                                Tags  TagCounts  \\\n",
       "0  Ukraine, Russia, World news, Nato, European Un...         19   \n",
       "1  Hong Kong, Asia Pacific, World news, China, Pr...         11   \n",
       "2  Ukraine, Russia, Europe, World news, Article, ...          9   \n",
       "3  Ukraine, Russia, Europe, World news, Article, ...         11   \n",
       "4  New Zealand, Asia Pacific, World news, Article...          7   \n",
       "\n",
       "                                                Text  \n",
       "0  Russian forces have launched rocket attacks th...  \n",
       "1  The head of Hong Kong’s journalists’ associati...  \n",
       "2  New satellite images show an expanding grave s...  \n",
       "3  Standing in front of a statue of a gruff-looki...  \n",
       "4  A fishing trip in New Zealand has ended in tra...  "
      ]
     },
     "execution_count": 55,
     "metadata": {},
     "output_type": "execute_result"
    }
   ],
   "source": [
    "# Remove extra spaces from papers\n",
    "metadata_df['Text'] = metadata_df['Text'].str.replace('\\s+', ' ', regex=True).str.strip()\n",
    "metadata_df.head()\n"
   ]
  },
  {
   "cell_type": "markdown",
   "metadata": {
    "id": "7MhJLWgA09UG"
   },
   "source": [
    "## Saving the metadata csv files."
   ]
  },
  {
   "cell_type": "code",
   "execution_count": 23,
   "metadata": {
    "id": "lP6e0KTYu0uz"
   },
   "outputs": [],
   "source": [
    "\n",
    "metadata_df.to_csv('metadata_improved.csv')"
   ]
  }
 ],
 "metadata": {
  "colab": {
   "provenance": []
  },
  "kernelspec": {
   "display_name": "Python 3 (ipykernel)",
   "language": "python",
   "name": "python3"
  },
  "language_info": {
   "codemirror_mode": {
    "name": "ipython",
    "version": 3
   },
   "file_extension": ".py",
   "mimetype": "text/x-python",
   "name": "python",
   "nbconvert_exporter": "python",
   "pygments_lexer": "ipython3",
   "version": "3.11.4"
  }
 },
 "nbformat": 4,
 "nbformat_minor": 1
}
